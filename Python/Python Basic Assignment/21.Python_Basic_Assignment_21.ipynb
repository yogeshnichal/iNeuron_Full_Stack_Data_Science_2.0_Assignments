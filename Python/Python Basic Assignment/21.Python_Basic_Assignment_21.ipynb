{
 "cells": [
  {
   "cell_type": "markdown",
   "id": "984b4513",
   "metadata": {},
   "source": [
    "# Assignment 21 Solutions"
   ]
  },
  {
   "cell_type": "markdown",
   "id": "4fe8b19e",
   "metadata": {},
   "source": [
    "#### 1. Add the current date to the text file today.txt as a string."
   ]
  },
  {
   "cell_type": "code",
   "execution_count": 1,
   "id": "4c5ad5ac",
   "metadata": {},
   "outputs": [
    {
     "name": "stdout",
     "output_type": "stream",
     "text": [
      "22-09-2021\n"
     ]
    }
   ],
   "source": [
    "import datetime\n",
    "# Code to Add current date to the today.txt file\n",
    "file = open('today.txt','w')\n",
    "file.write(datetime.datetime.now().strftime(\"%d-%m-%Y\"))\n",
    "file.close()\n",
    "# Code to Read current date from today.txt file\n",
    "file = open('today.txt','r')\n",
    "print(file.read())\n",
    "file.close()"
   ]
  },
  {
   "cell_type": "markdown",
   "id": "6cf23762",
   "metadata": {},
   "source": [
    "#### 2. Read the text file today.txt into the string today_string"
   ]
  },
  {
   "cell_type": "code",
   "execution_count": 2,
   "id": "107143ea",
   "metadata": {},
   "outputs": [
    {
     "name": "stdout",
     "output_type": "stream",
     "text": [
      "22-09-2021\n"
     ]
    }
   ],
   "source": [
    "file = open('today.txt','r')\n",
    "today_string = file.read()\n",
    "print(today_string)"
   ]
  },
  {
   "cell_type": "markdown",
   "id": "165addb6",
   "metadata": {},
   "source": [
    "#### 3. Parse the date from today_string."
   ]
  },
  {
   "cell_type": "code",
   "execution_count": 3,
   "id": "c622da5b",
   "metadata": {},
   "outputs": [
    {
     "name": "stdout",
     "output_type": "stream",
     "text": [
      "2021-09-22 00:00:00\n"
     ]
    }
   ],
   "source": [
    "from datetime import datetime\n",
    "parsed_data = datetime.strptime(today_string, '%d-%m-%Y')\n",
    "print(parsed_data)"
   ]
  },
  {
   "cell_type": "markdown",
   "id": "664d3278",
   "metadata": {},
   "source": [
    "#### 4. List the files in your current directory"
   ]
  },
  {
   "cell_type": "code",
   "execution_count": 1,
   "id": "cbacd0e4",
   "metadata": {},
   "outputs": [
    {
     "name": "stdout",
     "output_type": "stream",
     "text": [
      "01.Python_Basic_Assignment_01.ipynb\n",
      "02.Python_Basic_Assignment_02.ipynb\n",
      "03.Python_Basic_Assignment_03.ipynb\n",
      "04.Python_Basic_Assignment_04.ipynb\n",
      "05.Python_Basic_Assignment_05.ipynb\n",
      "06.Python_Basic_Assignment_06.ipynb\n",
      "07.Python_Basic_Assignment_07.ipynb\n",
      "08.Python_Basic_Assignment_08.ipynb\n",
      "09.Python_Basic_Assignment_09.ipynb\n",
      "10.Python_Basic_Assignment_10.ipynb\n",
      "11.Python_Basic_Assignment_11.ipynb\n",
      "12.Python_Basic_Assignment_12.ipynb\n",
      "13.Python_Basic_Assignment_13.ipynb\n",
      "14.Python_Basic_Assignment_14.ipynb\n",
      "15.Python_Basic_Assignment_15.ipynb\n",
      "16.Python_Basic_Assignment_16.ipynb\n",
      "17.Python_Basic_Assignment_17.ipynb\n",
      "18.Python_Basic_Assignment_18.ipynb\n",
      "19.Python_Basic_Assignment_19.ipynb\n",
      "20.Python_Basic_Assignment_20.ipynb\n",
      "21.Python_Basic_Assignment_21.ipynb\n",
      "22.Python_Basic_Assignment_22.ipynb\n",
      "23.Python_Basic_Assignment_23.ipynb\n",
      "24.Python_Basic_Assignment_24.ipynb\n",
      "25.Python_Basic_Assignment_25.ipynb\n",
      "application_log.txt\n",
      "A Visual Intro to NumPy.pdf\n",
      "01.Python_Basic_Assignment_01.ipynb\n",
      "A Visual Intro to NumPy.pdf\n",
      "supervised-learning-1.png\n"
     ]
    }
   ],
   "source": [
    "import os\n",
    "for folders, subfolders, files in os.walk(os.getcwd()):\n",
    "    for file in files:\n",
    "        print(file)"
   ]
  },
  {
   "cell_type": "markdown",
   "id": "291a203b",
   "metadata": {},
   "source": [
    "#### 5. Create a list of all of the files in your parent directory (minimum five files should be available)."
   ]
  },
  {
   "cell_type": "code",
   "execution_count": 2,
   "id": "efe9618b",
   "metadata": {},
   "outputs": [
    {
     "data": {
      "text/plain": [
       "['01.Python_Basic_Assignment_01.ipynb',\n",
       " '02.Python_Basic_Assignment_02.ipynb',\n",
       " '03.Python_Basic_Assignment_03.ipynb',\n",
       " '04.Python_Basic_Assignment_04.ipynb',\n",
       " '05.Python_Basic_Assignment_05.ipynb',\n",
       " '06.Python_Basic_Assignment_06.ipynb',\n",
       " '07.Python_Basic_Assignment_07.ipynb',\n",
       " '08.Python_Basic_Assignment_08.ipynb',\n",
       " '09.Python_Basic_Assignment_09.ipynb',\n",
       " '10.Python_Basic_Assignment_10.ipynb',\n",
       " '11.Python_Basic_Assignment_11.ipynb',\n",
       " '12.Python_Basic_Assignment_12.ipynb',\n",
       " '13.Python_Basic_Assignment_13.ipynb',\n",
       " '14.Python_Basic_Assignment_14.ipynb',\n",
       " '15.Python_Basic_Assignment_15.ipynb',\n",
       " '16.Python_Basic_Assignment_16.ipynb',\n",
       " '17.Python_Basic_Assignment_17.ipynb',\n",
       " '18.Python_Basic_Assignment_18.ipynb',\n",
       " '19.Python_Basic_Assignment_19.ipynb',\n",
       " '20.Python_Basic_Assignment_20.ipynb',\n",
       " '21.Python_Basic_Assignment_21.ipynb',\n",
       " '22.Python_Basic_Assignment_22.ipynb',\n",
       " '23.Python_Basic_Assignment_23.ipynb',\n",
       " '24.Python_Basic_Assignment_24.ipynb',\n",
       " '25.Python_Basic_Assignment_25.ipynb',\n",
       " 'application_log.txt',\n",
       " 'Demo',\n",
       " 'Dummy Source']"
      ]
     },
     "execution_count": 2,
     "metadata": {},
     "output_type": "execute_result"
    }
   ],
   "source": [
    "import os \n",
    "os.listdir()"
   ]
  },
  {
   "cell_type": "markdown",
   "id": "203dd9fe",
   "metadata": {},
   "source": [
    "#### 6. Use multiprocessing to create three separate processes. Make each one wait a random number of seconds between one and five, print the current time, and then exit."
   ]
  },
  {
   "cell_type": "code",
   "execution_count": 8,
   "id": "bcb2799b",
   "metadata": {},
   "outputs": [
    {
     "name": "stdout",
     "output_type": "stream",
     "text": [
      "starting processes\n",
      "Process 0 will sleep for 4\n",
      "starting processes\n",
      "Process 1 will sleep for 4\n",
      "starting processes\n",
      "Process 2 will sleep for 8\n"
     ]
    }
   ],
   "source": [
    "import multiprocessing\n",
    "from datetime import datetime \n",
    "from time import sleep \n",
    "import random\n",
    "\n",
    "def now_sleep(seconds): \n",
    "    print('wait', seconds, 'seconds, time is', datetime.utcnow())\n",
    "    sleep(seconds) \n",
    "    print(\"Finished Process!\")\n",
    "\n",
    "if __name__ == '__main__':\n",
    "    for n in range(3): \n",
    "        print(\"starting processes\")\n",
    "        seconds = random.randint(1, 10) \n",
    "        print(f\"Process {n} will sleep for {seconds}\")\n",
    "        proc = multiprocessing.Process(target=now_sleep, args=(seconds,)) \n",
    "        proc.start()\n",
    "        \n",
    "# Note: this file is saved as multiprocessing.py in local file system"
   ]
  },
  {
   "cell_type": "markdown",
   "id": "71d07e78",
   "metadata": {},
   "source": [
    "#### 7. Create a date object of your day of birth."
   ]
  },
  {
   "cell_type": "code",
   "execution_count": 5,
   "id": "b3e67c1c",
   "metadata": {},
   "outputs": [
    {
     "name": "stdout",
     "output_type": "stream",
     "text": [
      "1997-04-22 00:00:00 <class 'datetime.datetime'>\n"
     ]
    }
   ],
   "source": [
    "from datetime import datetime\n",
    "my_dob = datetime.strptime('22/04/1997','%d/%m/%Y')\n",
    "print(my_dob, type(my_dob))"
   ]
  },
  {
   "cell_type": "markdown",
   "id": "e5775db9",
   "metadata": {},
   "source": [
    "#### 8. What day of the week was your day of birth?"
   ]
  },
  {
   "cell_type": "code",
   "execution_count": 6,
   "id": "65b6ae43",
   "metadata": {},
   "outputs": [
    {
     "data": {
      "text/plain": [
       "'Tuesday'"
      ]
     },
     "execution_count": 6,
     "metadata": {},
     "output_type": "execute_result"
    }
   ],
   "source": [
    "from datetime import datetime\n",
    "my_dob = datetime(1997,4,22)\n",
    "my_dob.strftime(\"%A\")"
   ]
  },
  {
   "cell_type": "markdown",
   "id": "abe779de",
   "metadata": {},
   "source": [
    "#### 9. When will you be (or when were you) 10,000 days old?"
   ]
  },
  {
   "cell_type": "code",
   "execution_count": 7,
   "id": "db7e28a0",
   "metadata": {},
   "outputs": [
    {
     "data": {
      "text/plain": [
       "datetime.datetime(1969, 12, 5, 0, 0)"
      ]
     },
     "execution_count": 7,
     "metadata": {},
     "output_type": "execute_result"
    }
   ],
   "source": [
    "from datetime import datetime, timedelta\n",
    "my_dob = datetime.strptime(\"22/04/1997\",'%d/%m/%Y')\n",
    "future_date = my_dob-timedelta(10000)\n",
    "future_date"
   ]
  }
 ],
 "metadata": {
  "kernelspec": {
   "display_name": "Python 3",
   "language": "python",
   "name": "python3"
  },
  "language_info": {
   "codemirror_mode": {
    "name": "ipython",
    "version": 3
   },
   "file_extension": ".py",
   "mimetype": "text/x-python",
   "name": "python",
   "nbconvert_exporter": "python",
   "pygments_lexer": "ipython3",
   "version": "3.10.8"
  },
  "vscode": {
   "interpreter": {
    "hash": "a70fd689c8ddb5c4e09895a45fb187eb1279be2331afb35392f36e6b145ac57b"
   }
  }
 },
 "nbformat": 4,
 "nbformat_minor": 5
}
