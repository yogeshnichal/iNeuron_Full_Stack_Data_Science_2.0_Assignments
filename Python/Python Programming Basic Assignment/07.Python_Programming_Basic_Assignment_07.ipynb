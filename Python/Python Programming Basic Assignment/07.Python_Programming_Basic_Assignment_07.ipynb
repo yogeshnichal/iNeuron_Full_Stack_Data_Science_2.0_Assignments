{
 "cells": [
  {
   "cell_type": "markdown",
   "id": "d3a4bb27",
   "metadata": {},
   "source": [
    "# Assignment 7 Solutions"
   ]
  },
  {
   "attachments": {},
   "cell_type": "markdown",
   "id": "823845d3",
   "metadata": {},
   "source": [
    "#### 1. Write a Python Program to find sum of Array."
   ]
  },
  {
   "cell_type": "code",
   "execution_count": 1,
   "id": "6dd2fd5c",
   "metadata": {},
   "outputs": [
    {
     "name": "stdout",
     "output_type": "stream",
     "text": [
      "The sum of [1, 2, 3, 4, 5] is 15\n"
     ]
    }
   ],
   "source": [
    "def sumOfArray():\n",
    "    arr = eval(input(\"Enter the Array: \"))\n",
    "    print(f'The sum of {arr} is {sum(arr)}')\n",
    "\n",
    "sumOfArray()"
   ]
  },
  {
   "attachments": {},
   "cell_type": "markdown",
   "id": "9e6c1983",
   "metadata": {},
   "source": [
    "#### 2. Write a Python Program to find Largest element in an Array."
   ]
  },
  {
   "cell_type": "code",
   "execution_count": 2,
   "id": "e5c57cb3",
   "metadata": {},
   "outputs": [
    {
     "name": "stdout",
     "output_type": "stream",
     "text": [
      "The Largest Element in [1, 2, 3, 4, 5] is 5\n"
     ]
    }
   ],
   "source": [
    "def largestElement():\n",
    "    arr = eval(input(\"Enter the Array: \"))\n",
    "    print(f\"The Largest Element in {arr} is {sorted(arr, reverse=True)[0]}\")\n",
    "    \n",
    "largestElement()"
   ]
  },
  {
   "attachments": {},
   "cell_type": "markdown",
   "id": "c2705b7d",
   "metadata": {},
   "source": [
    "#### 3. Write a Python Program for array rotation."
   ]
  },
  {
   "cell_type": "code",
   "execution_count": 3,
   "id": "08afb7ff",
   "metadata": {},
   "outputs": [
    {
     "name": "stdout",
     "output_type": "stream",
     "text": [
      "The Reverse of Array [1, 2, 3, 4, 5] is [5, 4, 3, 2, 1]\n"
     ]
    }
   ],
   "source": [
    "def reverseOfArray():\n",
    "    arr = eval(input(\"Enter the Array: \"))\n",
    "    print(f\"The Reverse of Array {arr} is {arr[::-1]}\")\n",
    "    \n",
    "reverseOfArray()"
   ]
  },
  {
   "attachments": {},
   "cell_type": "markdown",
   "id": "5b6207c1",
   "metadata": {},
   "source": [
    "#### 4. Write a Python Program to Split the array and add the first part to the end."
   ]
  },
  {
   "cell_type": "code",
   "execution_count": 4,
   "id": "d6e5de3d",
   "metadata": {},
   "outputs": [
    {
     "name": "stdout",
     "output_type": "stream",
     "text": [
      "The Sum of First and Last Elements of Array [15, 20, 30, 40, 50] is 65\n"
     ]
    }
   ],
   "source": [
    "def sumOfSplits():\n",
    "    arr = eval(input(\"Enter the Array: \"))\n",
    "    print(f\"The Sum of First and Last Elements of Array {arr} is {arr[0]+arr[-1]}\")\n",
    "    \n",
    "sumOfSplits()"
   ]
  },
  {
   "attachments": {},
   "cell_type": "markdown",
   "id": "eb0e084d",
   "metadata": {},
   "source": [
    "#### 5. Write a Python Program to check if given array is Monotonic."
   ]
  },
  {
   "cell_type": "code",
   "execution_count": 5,
   "id": "08c0196d",
   "metadata": {},
   "outputs": [
    {
     "name": "stdout",
     "output_type": "stream",
     "text": [
      "Array [1, 2, 3, 4, 5] is Monotonic\n",
      "Array [15, 20, 30, 40, 50] is Monotonic\n"
     ]
    }
   ],
   "source": [
    "def checkMonotonic():\n",
    "    arr = eval(input(\"Enter the Array: \"))\n",
    "    if(all(arr[i]<=arr[i+1] for i in range(len(arr)-1)) or all(arr[i]>=arr[i+1] for i in range(len(arr)-1))):\n",
    "        print(f'Array {arr} is Monotonic')\n",
    "    else:\n",
    "        print(f'Array {arr} is Not Monotonic')\n",
    "\n",
    "checkMonotonic()\n",
    "checkMonotonic()"
   ]
  }
 ],
 "metadata": {
  "kernelspec": {
   "display_name": "Python 3",
   "language": "python",
   "name": "python3"
  },
  "language_info": {
   "codemirror_mode": {
    "name": "ipython",
    "version": 3
   },
   "file_extension": ".py",
   "mimetype": "text/x-python",
   "name": "python",
   "nbconvert_exporter": "python",
   "pygments_lexer": "ipython3",
   "version": "3.11.1"
  },
  "vscode": {
   "interpreter": {
    "hash": "5167555cca25988f4ab5c352514d69f303d9df15c2d89ee1d6395211ca37fe29"
   }
  }
 },
 "nbformat": 4,
 "nbformat_minor": 5
}
