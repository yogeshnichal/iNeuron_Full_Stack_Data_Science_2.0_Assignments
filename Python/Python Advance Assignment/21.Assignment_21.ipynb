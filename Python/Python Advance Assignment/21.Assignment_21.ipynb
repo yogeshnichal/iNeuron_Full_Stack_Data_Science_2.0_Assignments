{
 "cells": [
  {
   "cell_type": "markdown",
   "id": "995281bf",
   "metadata": {},
   "source": [
    "# Assignment 21 Solutions"
   ]
  },
  {
   "cell_type": "markdown",
   "id": "65a92b4a",
   "metadata": {},
   "source": [
    "#### Q1. What is a probability distribution, exactly? If the values are meant to be random, how can you predict them at all ?\n",
    "**Ans:** A probability distribution describes how a random variable is distributed.\n",
    "\n",
    "It tells us which values a random variable is most likely to take on and which values are less likely. Based on the previous data and the occurences of the random event, we can predict the outcome in terms of probabilities. "
   ]
  },
  {
   "cell_type": "markdown",
   "id": "06c8734d",
   "metadata": {},
   "source": [
    "#### Q2. Is there a distinction between true random numbers and pseudo-random numbers, if there is one? Why are the latter considered “good enough”?\n",
    "**Ans:** : True Random Numbers are true physical values while pseudo-random numbers are generated internally by a program . Latter is considered good enough as they have sort of uniform\n",
    "distribution. "
   ]
  },
  {
   "cell_type": "markdown",
   "id": "1e19043f",
   "metadata": {},
   "source": [
    "#### Q3. What are the two main factors that influence the behaviour of a \"normal\" probability distribution ?\n",
    "**Ans:** Normal Probability Distribution are influenced by two factors mean and the variance. "
   ]
  },
  {
   "cell_type": "markdown",
   "id": "e75110f5",
   "metadata": {},
   "source": [
    "#### Q4. Provide a real-life example of a normal distribution ?\n",
    "**Ans:** A Real-life example of a normal distribution are heights or blood pressure measurements"
   ]
  },
  {
   "cell_type": "markdown",
   "id": "eba32f70",
   "metadata": {},
   "source": [
    "#### Q5. In the short term, how can you expect a probability distribution to behave? What do you think will happen as the number of trials grows ?\n",
    "**Ans:** Variance will decrease with number of trials"
   ]
  },
  {
   "cell_type": "markdown",
   "id": "82eba016",
   "metadata": {},
   "source": [
    "#### Q6. What kind of object can be shuffled by using random.shuffle ?\n",
    "**Ans:** lists (`list`), strings (`str`) and tuples (`tuple`) objects can be shuffled by using `random.shuffle`."
   ]
  },
  {
   "cell_type": "markdown",
   "id": "c1ba9930",
   "metadata": {},
   "source": [
    "#### Q7. Describe the math package's general categories of functions ?\n",
    "**Ans:** The Math package's general categories of functions are:\n",
    "1. Trigonometric functions\n",
    "2. Quadratic functions\n",
    "3. Exponential functions\n",
    "4. Hyperbolic functions\n",
    "5. Periodic functions\n",
    "6. Arithmetic functions\n",
    "7. Logarithimic functions\n",
    "8. Conversions to Integer"
   ]
  },
  {
   "attachments": {},
   "cell_type": "markdown",
   "id": "cbab2356",
   "metadata": {},
   "source": [
    "#### Q8. What is the relationship between exponentiation and logarithms?\n",
    "**Ans:** The relationship between exponentiation and logarithms is inverse. Given a number x and a base b, the exponentiation b^y is equal to x if and only if the logarithm of x with base b is equal to y.\n",
    "\n",
    "if b^y = x, then y = log_b(x), and if y = log_b(x), then b^y = x. "
   ]
  },
  {
   "attachments": {},
   "cell_type": "markdown",
   "id": "43787cec",
   "metadata": {},
   "source": [
    "#### Q9. What are the three logarithmic functions that Python supports?\n",
    "**Ans:** The Three Logarithmic Functions that Python supports are:\n",
    "1. `log:` The natural logarithm function, which returns the logarithm of a number to the base e (the mathematical constant approximately equal to 2.71828).\n",
    "2. `log2:` The logarithm function to the base 2.\n",
    "3. `log10:` The logarithm function to the base 10."
   ]
  }
 ],
 "metadata": {
  "kernelspec": {
   "display_name": "Python 3",
   "language": "python",
   "name": "python3"
  },
  "language_info": {
   "codemirror_mode": {
    "name": "ipython",
    "version": 3
   },
   "file_extension": ".py",
   "mimetype": "text/x-python",
   "name": "python",
   "nbconvert_exporter": "python",
   "pygments_lexer": "ipython3",
   "version": "3.11.1 (tags/v3.11.1:a7a450f, Dec  6 2022, 19:58:39) [MSC v.1934 64 bit (AMD64)]"
  },
  "vscode": {
   "interpreter": {
    "hash": "5167555cca25988f4ab5c352514d69f303d9df15c2d89ee1d6395211ca37fe29"
   }
  }
 },
 "nbformat": 4,
 "nbformat_minor": 5
}
