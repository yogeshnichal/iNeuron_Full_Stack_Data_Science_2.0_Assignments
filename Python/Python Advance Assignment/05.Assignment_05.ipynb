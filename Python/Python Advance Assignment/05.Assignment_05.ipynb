{
 "cells": [
  {
   "cell_type": "markdown",
   "id": "a8e2fc40",
   "metadata": {},
   "source": [
    "# Assignment 05 Solutions"
   ]
  },
  {
   "attachments": {},
   "cell_type": "markdown",
   "id": "3ae2f846",
   "metadata": {},
   "source": [
    "#### Q1. What is the meaning of multiple inheritance?\n",
    "**Ans:** Multiple inheritance refers to a feature in object-oriented programming where a single class can inherit properties and behaviors from multiple parent classes. This allows the derived class to inherit the attributes and methods of multiple base classes, providing a way to reuse code and modularize the design of a system. In multiple inheritance, a single class is created by combining the attributes and methods of multiple parent classes, resulting in a single class that has the combined characteristics of its parent classes."
   ]
  },
  {
   "cell_type": "code",
   "execution_count": 1,
   "id": "e8567eae",
   "metadata": {},
   "outputs": [
    {
     "name": "stdout",
     "output_type": "stream",
     "text": [
      "Parent1 method1\n",
      "Parent2 method2\n"
     ]
    }
   ],
   "source": [
    "class Parent1:\n",
    "    def method1(self):\n",
    "        print(\"Parent1 method1\")\n",
    "\n",
    "class Parent2:\n",
    "    def method2(self):\n",
    "        print(\"Parent2 method2\")\n",
    "\n",
    "class Child(Parent1, Parent2):\n",
    "    pass\n",
    "\n",
    "c = Child()\n",
    "c.method1()  # outputs: Parent1 method1\n",
    "c.method2()  # outputs: Parent2 method2"
   ]
  },
  {
   "attachments": {},
   "cell_type": "markdown",
   "id": "38440f4c",
   "metadata": {},
   "source": [
    "#### Q2. What is the concept of delegation?\n",
    "**Ans:** Delegation is a design pattern in object-oriented programming that involves passing the responsibility of executing a task from one object to another.\n",
    "The idea behind delegation is that an object can delegate a task to another object, rather than performing the task itself. This way, objects can be designed to be flexible, reusable, and maintainable."
   ]
  },
  {
   "cell_type": "code",
   "execution_count": 2,
   "id": "d57e9c12",
   "metadata": {},
   "outputs": [
    {
     "name": "stdout",
     "output_type": "stream",
     "text": [
      "20\n",
      "6.4031242374328485\n"
     ]
    }
   ],
   "source": [
    "class Math:\n",
    "    def sqrt(self, number):\n",
    "        return number ** 0.5\n",
    "\n",
    "class Rectangle:\n",
    "    def __init__(self, length, width):\n",
    "        self.length = length\n",
    "        self.width = width\n",
    "        self.math = Math()\n",
    "\n",
    "    def area(self):\n",
    "        return self.length * self.width\n",
    "\n",
    "    def diagonal(self):\n",
    "        return self.math.sqrt(self.length**2 + self.width**2)\n",
    "\n",
    "# Create a rectangle object\n",
    "rect = Rectangle(4, 5)\n",
    "\n",
    "# Calculate the area of the rectangle\n",
    "print(rect.area())  # 20\n",
    "\n",
    "# Calculate the diagonal of the rectangle\n",
    "print(rect.diagonal())  # 6.4031242374328485"
   ]
  },
  {
   "attachments": {},
   "cell_type": "markdown",
   "id": "4600a4d4",
   "metadata": {},
   "source": [
    "#### Q3. What is the concept of composition?\n",
    "**Ans:** Composition is a design pattern in object-oriented programming that involves creating objects that are made up of other objects. It allows you to create complex objects from simpler objects. The relationship between the composed objects is defined such that changes in the state of one object affect the state of other objects. In composition, an object does not inherit from another object, but instead contains a reference to another object and delegates certain tasks to it. This relationship is usually referred to as \"has-a\" relationship."
   ]
  },
  {
   "cell_type": "code",
   "execution_count": 3,
   "id": "7e779e32",
   "metadata": {},
   "outputs": [
    {
     "name": "stdout",
     "output_type": "stream",
     "text": [
      "Goodyear is rolling on Alloy\n"
     ]
    }
   ],
   "source": [
    "class Wheel:\n",
    "    def __init__(self, tire, rim):\n",
    "        self.tire = tire\n",
    "        self.rim = rim\n",
    "\n",
    "    def roll(self):\n",
    "        return f\"{self.tire} is rolling on {self.rim}\"\n",
    "\n",
    "class Car:\n",
    "    def __init__(self, wheel):\n",
    "        self.wheel = wheel\n",
    "\n",
    "    def drive(self):\n",
    "        return self.wheel.roll()\n",
    "\n",
    "wheel = Wheel(\"Goodyear\", \"Alloy\")\n",
    "car = Car(wheel)\n",
    "\n",
    "print(car.drive())"
   ]
  },
  {
   "attachments": {},
   "cell_type": "markdown",
   "id": "ce7913c2",
   "metadata": {},
   "source": [
    "#### Q4. What are bound methods and how do we use them?\n",
    "**Ans:** Bound methods in Python are methods that are bound to an instance of an object, rather than being unbound (static) methods. They are created by calling a method on an instance of a class, rather than on the class itself."
   ]
  },
  {
   "cell_type": "code",
   "execution_count": 4,
   "id": "dc8b18a8",
   "metadata": {},
   "outputs": [
    {
     "name": "stdout",
     "output_type": "stream",
     "text": [
      "<bound method Car.start_engine of <__main__.Car object at 0x000001DFA1360F50>>\n"
     ]
    }
   ],
   "source": [
    "class Car:\n",
    "    def __init__(self, color, make):\n",
    "        self.color = color\n",
    "        self.make = make\n",
    "        \n",
    "    def start_engine(self):\n",
    "        print(\"Engine started!\")\n",
    "\n",
    "my_car = Car(\"red\", \"Toyota\")\n",
    "start_engine = my_car.start_engine\n",
    "\n",
    "print(start_engine)  # <bound method Car.start_engine of <__main__.Car object at 0x7f80a8b88e80>>"
   ]
  },
  {
   "attachments": {},
   "cell_type": "markdown",
   "id": "04f059af",
   "metadata": {},
   "source": [
    "#### Q5. What is the purpose of pseudoprivate attributes?\n",
    "**Ans:** Pseudoprivate attributes are class attributes that are intended to be private but cannot be made truly private in Python. These attributes are named using a double underscore prefix, which causes their names to be mangled by adding a prefix with the class name. The purpose of pseudoprivate attributes is to signal to other programmers that the attribute should be treated as if it were private and should not be accessed directly outside the class. This helps to enforce the class's abstractions and protect its internal state."
   ]
  },
  {
   "cell_type": "code",
   "execution_count": 8,
   "id": "6710d4ea",
   "metadata": {},
   "outputs": [
    {
     "name": "stdout",
     "output_type": "stream",
     "text": [
      "42\n"
     ]
    }
   ],
   "source": [
    "class Example:\n",
    "    def __init__(self):\n",
    "        self.__private_attribute = 42\n",
    "        \n",
    "    def access_private(self):\n",
    "        return self.__private_attribute\n",
    "        \n",
    "example = Example()\n",
    "print(example.access_private()) # Output: 42\n",
    "# Direct access to the private attribute is not allowed\n",
    "# print(example.__private_attribute) # AttributeError\n"
   ]
  }
 ],
 "metadata": {
  "kernelspec": {
   "display_name": "Python 3",
   "language": "python",
   "name": "python3"
  },
  "language_info": {
   "codemirror_mode": {
    "name": "ipython",
    "version": 3
   },
   "file_extension": ".py",
   "mimetype": "text/x-python",
   "name": "python",
   "nbconvert_exporter": "python",
   "pygments_lexer": "ipython3",
   "version": "3.11.1"
  },
  "vscode": {
   "interpreter": {
    "hash": "5167555cca25988f4ab5c352514d69f303d9df15c2d89ee1d6395211ca37fe29"
   }
  }
 },
 "nbformat": 4,
 "nbformat_minor": 5
}
