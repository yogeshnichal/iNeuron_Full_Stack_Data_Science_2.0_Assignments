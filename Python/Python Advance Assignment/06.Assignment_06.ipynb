{
 "cells": [
  {
   "cell_type": "markdown",
   "id": "cdb59e56",
   "metadata": {},
   "source": [
    "# Assignment 06 Solutions"
   ]
  },
  {
   "attachments": {},
   "cell_type": "markdown",
   "id": "9dce2ceb",
   "metadata": {},
   "source": [
    "#### Q1. Describe three applications for exception processing.\n",
    "**Ans:** Exception Processing is important to find exceptions that causes the runtime error. As runtime errors Halt the program execution when exception occurs.\n",
    "\n",
    "`1.` Error Handling: Exception handling is a mechanism to handle runtime errors in a program. It is used to handle situations when the program encounters unexpected conditions and raises an exception. Exception handling allows the programmer to catch and handle the exception, instead of abruptly stopping the program.\n",
    "\n",
    "`2.` Input Validation: Exception handling can be used to validate user input. It can be used to check if the input meets certain criteria, and raise an exception if the input is not valid.\n",
    "\n",
    "`3.` Debugging: Exception handling can be used to debug a program. By raising exceptions and handling them, the programmer can get more information about the error and find the source of the problem more easily. Additionally, if the program encounters an exception, the programmer can choose to stop the program, print a debug message, or take other actions to diagnose the issue."
   ]
  },
  {
   "attachments": {},
   "cell_type": "markdown",
   "id": "c82ae389",
   "metadata": {},
   "source": [
    "#### Q2. What happens if you don't do something extra to treat an exception?\n",
    "**Ans:** If you don't handle an exception using a try-except block, the program will terminate immediately and show a traceback error message indicating the location of the error. This can make it difficult to understand the root cause of the error and debug the program. Additionally, the program will not continue executing the rest of the code. To prevent this, it is important to handle exceptions appropriately so that the program can continue to run even in the event of an error."
   ]
  },
  {
   "attachments": {},
   "cell_type": "markdown",
   "id": "5adab9bd",
   "metadata": {},
   "source": [
    "#### Q3. What are your options for recovering from an exception in your script?\n",
    "**Ans:** When an exception is raised in a script, the following options are available to recover from it:\n",
    "\n",
    "`1.` Catch and Handle: Use a try-except block to catch the exception and handle it gracefully by executing appropriate code to deal with it.\n",
    "\n",
    "`2.` Ignore and Continue: Do not handle the exception and simply continue the execution of the script.\n",
    "\n",
    "`3.` Propagate: Use a raise statement to propagate the exception to the calling function, allowing it to be caught and handled higher up in the call stack.\n",
    "\n",
    "`4.` Abort: Terminate the script immediately without handling the exception. This option can be used when an exception indicates a critical error and it's not possible to continue the execution of the script."
   ]
  },
  {
   "attachments": {},
   "cell_type": "markdown",
   "id": "d7379d80",
   "metadata": {},
   "source": [
    "#### Q4. Describe two methods for triggering exceptions in your script ?\n",
    "**Ans:** **`raise`** and **`assert`** are two methods that can be used to trigger manual exceptions in your script.\n",
    "- Raising an exception: You can raise an exception manually in your script using the **`raise`** keyword.\n",
    "- Using an assert statement: You can use an assert statement to check a condition, and trigger an **`AssertionError`** if the condition is not met."
   ]
  },
  {
   "cell_type": "code",
   "execution_count": 1,
   "id": "55ca2b5b",
   "metadata": {},
   "outputs": [
    {
     "name": "stdout",
     "output_type": "stream",
     "text": [
      "Caught exception: division by zero\n"
     ]
    }
   ],
   "source": [
    "def divide(a, b):\n",
    "    if b == 0:\n",
    "        raise ZeroDivisionError(\"division by zero\")\n",
    "    else:\n",
    "        return a / b\n",
    "\n",
    "try:\n",
    "  result = divide(10, 0)\n",
    "except ZeroDivisionError as error:\n",
    "  print(\"Caught exception:\", error)\n"
   ]
  },
  {
   "cell_type": "code",
   "execution_count": 2,
   "id": "b9bfe958",
   "metadata": {},
   "outputs": [
    {
     "name": "stdout",
     "output_type": "stream",
     "text": [
      "Caught exception: x must be non-negative\n"
     ]
    }
   ],
   "source": [
    "def sqrt(x):\n",
    "    assert x >= 0, \"x must be non-negative\"\n",
    "    return math.sqrt(x)\n",
    "\n",
    "try:\n",
    "  result = sqrt(-1)\n",
    "except AssertionError as error:\n",
    "  print(\"Caught exception:\", error)\n"
   ]
  },
  {
   "attachments": {},
   "cell_type": "markdown",
   "id": "6335bd5c",
   "metadata": {},
   "source": [
    "#### Q5. Identify two methods for specifying actions to be executed at termination time, regardless of whether or not an exception exists.\n",
    "**Ans:** The **`else`** block is executed when the try block runs without encountering an exception. The **`finally`** block is executed regardless of whether an exception is raised or not, making it useful for cleaning up resources or releasing locks."
   ]
  },
  {
   "cell_type": "code",
   "execution_count": 3,
   "id": "e72921ee",
   "metadata": {},
   "outputs": [],
   "source": [
    "try:\n",
    "    pass    # perform some actions\n",
    "except Exception as e:\n",
    "    pass    # handle the exception\n",
    "else:\n",
    "    pass    # execute if no exception was raised in the try block\n",
    "finally:\n",
    "    pass    # execute this block regardless of whether an exception was raised or not\n"
   ]
  }
 ],
 "metadata": {
  "kernelspec": {
   "display_name": "Python 3",
   "language": "python",
   "name": "python3"
  },
  "language_info": {
   "codemirror_mode": {
    "name": "ipython",
    "version": 3
   },
   "file_extension": ".py",
   "mimetype": "text/x-python",
   "name": "python",
   "nbconvert_exporter": "python",
   "pygments_lexer": "ipython3",
   "version": "3.11.1"
  },
  "vscode": {
   "interpreter": {
    "hash": "5167555cca25988f4ab5c352514d69f303d9df15c2d89ee1d6395211ca37fe29"
   }
  }
 },
 "nbformat": 4,
 "nbformat_minor": 5
}
