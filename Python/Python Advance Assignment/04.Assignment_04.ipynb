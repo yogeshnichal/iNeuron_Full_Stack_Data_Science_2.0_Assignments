{
 "cells": [
  {
   "cell_type": "markdown",
   "id": "83640f69",
   "metadata": {},
   "source": [
    "# Assignment 04 Solutions"
   ]
  },
  {
   "attachments": {},
   "cell_type": "markdown",
   "id": "4c06fa86",
   "metadata": {},
   "source": [
    "#### Q1. Which two operator overloading methods can you use in your classes to support iteration?\n",
    "**Ans:** In Python, two operator overloading methods that can be used in classes to support iteration are **`__iter__`** and **`__next__`**.\n",
    "\n",
    "The **`__iter__`** method is called to get an iterator from an object. This method should return an object with a **`__next__`** method.\n",
    "\n",
    "The **`__next__`** method is called to get the next value from an iterator. It should raise the StopIteration exception when there are no more values to be returned."
   ]
  },
  {
   "cell_type": "code",
   "execution_count": 1,
   "id": "90a386ed",
   "metadata": {},
   "outputs": [
    {
     "name": "stdout",
     "output_type": "stream",
     "text": [
      "0\n",
      "1\n",
      "2\n",
      "3\n",
      "4\n"
     ]
    }
   ],
   "source": [
    "class MyRange:\n",
    "    def __init__(self, n):\n",
    "        self.n = n\n",
    "        self.i = 0\n",
    "    \n",
    "    def __iter__(self):\n",
    "        return self\n",
    "    \n",
    "    def __next__(self):\n",
    "        if self.i < self.n:\n",
    "            i = self.i\n",
    "            self.i += 1\n",
    "            return i\n",
    "        else:\n",
    "            raise StopIteration\n",
    "\n",
    "# Create an instance of the class\n",
    "numbers = MyRange(5)\n",
    "\n",
    "# Iterate over the numbers using a for loop\n",
    "for number in numbers:\n",
    "    print(number)"
   ]
  },
  {
   "attachments": {},
   "cell_type": "markdown",
   "id": "0b3e5985",
   "metadata": {},
   "source": [
    "#### Q2. In what contexts do the two operator overloading methods manage printing?\n",
    "**Ans:** In Python, two operator overloading methods that manage printing are **`__str__`** and **`__repr__`**.\n",
    "\n",
    "The **`__str__`** method is called by the built-in str() function to get a human-readable string representation of an object. It should return a string that represents the object in a way that's easy for humans to understand.\n",
    "\n",
    "The **`__repr__`** method is called by the built-in repr() function to get a string representation of an object that's suitable for debugging and development. It should return a string that represents the object in a way that's unambiguous and can be used to recreate the object."
   ]
  },
  {
   "cell_type": "code",
   "execution_count": 2,
   "id": "8b12d86a",
   "metadata": {},
   "outputs": [
    {
     "name": "stdout",
     "output_type": "stream",
     "text": [
      "(3, 4)\n",
      "Point(3, 4)\n"
     ]
    }
   ],
   "source": [
    "class Point:\n",
    "    def __init__(self, x, y):\n",
    "        self.x = x\n",
    "        self.y = y\n",
    "    \n",
    "    def __str__(self):\n",
    "        return f'({self.x}, {self.y})'\n",
    "    \n",
    "    def __repr__(self):\n",
    "        return f'Point({self.x}, {self.y})'\n",
    "\n",
    "# Create an instance of the class\n",
    "p = Point(3, 4)\n",
    "\n",
    "# Print the string representation of the object\n",
    "print(str(p)) # (3, 4)\n",
    "\n",
    "# Print the unambiguous representation of the object\n",
    "print(repr(p)) # Point(3, 4)"
   ]
  },
  {
   "attachments": {},
   "cell_type": "markdown",
   "id": "776e9c16",
   "metadata": {},
   "source": [
    "#### Q3. In a class, how do you intercept slice operations?\n",
    "**Ans:** In Python, you can intercept slice operations in a class by using the **`__getitem__`** magic method. The **`__getitem__`** method is called when you use square brackets [] to access an element of an object. \n",
    "\n",
    "**Example:** `__getitem__(slice(start,stop,step))`"
   ]
  },
  {
   "cell_type": "code",
   "execution_count": 3,
   "id": "01f69a37",
   "metadata": {},
   "outputs": [
    {
     "name": "stdout",
     "output_type": "stream",
     "text": [
      "[2, 3]\n"
     ]
    }
   ],
   "source": [
    "class MyList:\n",
    "    def __init__(self, data):\n",
    "        self.data = data\n",
    "\n",
    "    def __getitem__(self, index):\n",
    "        return self.data[index]\n",
    "\n",
    "# Create an instance of the class\n",
    "my_list = MyList([1, 2, 3, 4, 5])\n",
    "\n",
    "# Get a slice of the list\n",
    "print(my_list[1:3]) # [2, 3]"
   ]
  },
  {
   "attachments": {},
   "cell_type": "markdown",
   "id": "1960c808",
   "metadata": {},
   "source": [
    "#### Q4. In a class, how do you capture in-place addition?\n",
    "**Ans:** In Python, you can capture in-place addition in a class by using the **`__iadd__`** magic method. The **`__iadd__`** method is called when you use the += operator to add an object to an instance of your class."
   ]
  },
  {
   "cell_type": "code",
   "execution_count": 4,
   "id": "89e37d51",
   "metadata": {},
   "outputs": [
    {
     "name": "stdout",
     "output_type": "stream",
     "text": [
      "[1, 2, 3, 4, 5, 6]\n"
     ]
    }
   ],
   "source": [
    "class MyList:\n",
    "    def __init__(self, data):\n",
    "        self.data = data\n",
    "\n",
    "    def __iadd__(self, other):\n",
    "        self.data += other\n",
    "        return self\n",
    "\n",
    "# Create an instance of the class\n",
    "my_list = MyList([1, 2, 3])\n",
    "\n",
    "# Use in-place addition\n",
    "my_list += [4, 5, 6]\n",
    "\n",
    "# The data has been changed in-place\n",
    "print(my_list.data) # [1, 2, 3, 4, 5, 6]"
   ]
  },
  {
   "attachments": {},
   "cell_type": "markdown",
   "id": "341416c2",
   "metadata": {},
   "source": [
    "#### Q5. When is it appropriate to use operator overloading?\n",
    "**Ans:** Operator overloading is appropriate when you want to create custom classes that behave like built-in types. For example, if you want to create a custom class for a mathematical object, such as a vector or a matrix, it makes sense to overload the + operator to perform vector addition or matrix addition.\n",
    "\n",
    "Operator overloading can help make your code more readable and intuitive by allowing you to use the familiar arithmetic operators to perform operations on instances of your custom classes. This can improve the readability and maintainability of your code, especially if the overloaded operators match the expectations of others who are reading your code."
   ]
  },
  {
   "cell_type": "code",
   "execution_count": 5,
   "id": "14b44902",
   "metadata": {},
   "outputs": [
    {
     "name": "stdout",
     "output_type": "stream",
     "text": [
      "(4 + 6j)\n",
      "(-5 + 10j)\n"
     ]
    }
   ],
   "source": [
    "class ComplexNumber:\n",
    "    def __init__(self, real, imag):\n",
    "        self.real = real\n",
    "        self.imag = imag\n",
    "\n",
    "    def __add__(self, other):\n",
    "        return ComplexNumber(self.real + other.real, self.imag + other.imag)\n",
    "\n",
    "    def __sub__(self, other):\n",
    "        return ComplexNumber(self.real - other.real, self.imag - other.imag)\n",
    "\n",
    "    def __mul__(self, other):\n",
    "        return ComplexNumber(self.real * other.real - self.imag * other.imag, self.real * other.imag + self.imag * other.real)\n",
    "\n",
    "    def __str__(self):\n",
    "        return f\"({self.real} + {self.imag}j)\"\n",
    "\n",
    "c1 = ComplexNumber(1, 2)\n",
    "c2 = ComplexNumber(3, 4)\n",
    "print(c1 + c2) # prints (4 + 6j)\n",
    "print(c1 * c2) # prints (-5 + 10j)"
   ]
  }
 ],
 "metadata": {
  "kernelspec": {
   "display_name": "Python 3",
   "language": "python",
   "name": "python3"
  },
  "language_info": {
   "codemirror_mode": {
    "name": "ipython",
    "version": 3
   },
   "file_extension": ".py",
   "mimetype": "text/x-python",
   "name": "python",
   "nbconvert_exporter": "python",
   "pygments_lexer": "ipython3",
   "version": "3.11.1"
  },
  "vscode": {
   "interpreter": {
    "hash": "5167555cca25988f4ab5c352514d69f303d9df15c2d89ee1d6395211ca37fe29"
   }
  }
 },
 "nbformat": 4,
 "nbformat_minor": 5
}
