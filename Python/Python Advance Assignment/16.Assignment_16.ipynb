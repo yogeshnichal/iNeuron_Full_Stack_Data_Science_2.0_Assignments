{
 "cells": [
  {
   "cell_type": "markdown",
   "id": "1b34bd2a",
   "metadata": {},
   "source": [
    "# Assignment 16 Solutions"
   ]
  },
  {
   "attachments": {},
   "cell_type": "markdown",
   "id": "f8313cc0",
   "metadata": {},
   "source": [
    "#### Q1. What is the benefit of regular expressions?\n",
    "**Ans:** Regular Expressions, also known as **`regex`** or **`regexp`**.\n",
    "**Text processing:** Regular expressions can be used to process large amounts of text data quickly and efficiently, for tasks such as pattern matching, search and replace, data extraction, and validation.\n",
    "\n",
    "**Pattern matching:** Regular expressions allow you to specify patterns in strings, making it easy to identify specific substrings, characters, or combinations of characters.\n",
    "\n",
    "**Flexibility:** Regular expressions are highly flexible and can be used to match a wide variety of patterns, including those with complex structures or variations.\n",
    "\n",
    "**Conciseness:** Regular expressions provide a concise syntax for describing complex patterns, making it easier to write and maintain your code.\n",
    "\n",
    "**Reusability:** Regular expressions can be used across multiple programming languages and tools, making it easier to transfer your skills and code from one environment to another.\n",
    "\n",
    "**Efficiency:** Regular expressions can be used to process large amounts of data quickly, with efficient algorithms for matching patterns."
   ]
  },
  {
   "attachments": {},
   "cell_type": "markdown",
   "id": "3ec69ca0",
   "metadata": {},
   "source": [
    "#### Q2. Describe the difference between the effects of \"(ab)c+\" and \"a(bc)+\" Which of these, if any, is the unqualified pattern \"abc+\"?\n",
    "**Ans:** **(ab)c+:** This pattern consists of a group of characters `ab` followed by one or more `c` characters. The group `(ab)` is matched as a whole, and the `+` after `c` indicates that one or more `c` characters are required. The pattern will match strings like `abc`, `abcc`, and `abccc`, but will not match strings like `ab` or `ac`.\n",
    "\n",
    "**a(bc)+:** This pattern consists of an `a` character followed by one or more groups of `bc`. The `+` after `bc` indicates that one or more groups of `bc` are required. The pattern will match strings like `abc`, `abcbc`, and `abcbcbc`, but will not match strings like `a` or `ab`.\n",
    "\n",
    "Neither `(ab)c+` nor `a(bc)+` is the unqualified pattern `abc+`. The unqualified pattern `abc+` requires one or more consecutive `abc` strings, and will match strings like `abc`, `abcabc`, and `abcabcabc`."
   ]
  },
  {
   "cell_type": "markdown",
   "id": "2b4c8728",
   "metadata": {},
   "source": [
    "#### Q3. How much do you need to use the following sentence while using regular expressions?\n",
    "**`import re`**  \n",
    "\n",
    "**Ans:** **`import re`** statement always has to be imported before using regular expressions."
   ]
  },
  {
   "cell_type": "markdown",
   "id": "2338be46",
   "metadata": {},
   "source": [
    "#### Q4. Which characters have special significance in square brackets when expressing a range, and under what circumstances?\n",
    "**Ans:** The Characters **`.`,`*`,`?`,`^`**,or,**`()`**, have a special signiface when used with square brackets. They need not be be explicitly escaped by **`\\`** as in case of pattern texts in a raw string."
   ]
  },
  {
   "cell_type": "markdown",
   "id": "bc0c3bef",
   "metadata": {},
   "source": [
    "#### Q5. How does compiling a regular-expression object benefit you?\n",
    "**Ans:** We can Combine a regular expression pattern into pattern Objects.Which can be used for pattern matching. it also helps to search a pattern again without rewritting it."
   ]
  },
  {
   "cell_type": "markdown",
   "id": "c2885976",
   "metadata": {},
   "source": [
    "#### Q6. What are some examples of how to use the match object returned by re.match and re.search?\n",
    "**Ans:** The **`re.search()`** and **`re.match()`** both are functions of re module in python. These functions are very efficient and fast for searching in strings. The function searches for some substring in a string and returns a match object if found, else it returns none.\n",
    "\n",
    "There is a difference between the use of both functions. Both return the first match of a substring found in the string, but **`re.match()`** searches only from the beginning of the string and return match object if found. But if a match of substring is found somewhere in the middle of the string, it returns none. \n",
    "\n",
    "While **`re.search()`** searches for the whole string even if the string contains multi-lines and tries to find a match of the substring in all the lines of string"
   ]
  },
  {
   "cell_type": "code",
   "execution_count": 1,
   "id": "358eb508",
   "metadata": {},
   "outputs": [
    {
     "name": "stdout",
     "output_type": "stream",
     "text": [
      "<re.Match object; span=(66, 72), match='string'>\n",
      "None\n",
      "<re.Match object; span=(0, 6), match='string'>\n",
      "<re.Match object; span=(0, 6), match='string'>\n"
     ]
    }
   ],
   "source": [
    "import re\n",
    "Substring ='string' \n",
    "String1 ='We are learning regex with geeksforgeeks regex is very useful for string matching. It is fast too.' \n",
    "String2 ='string We are learning regex with geeksforgeeks regex is very useful for string matching. It is fast too.'\n",
    "print(re.search(Substring, String1, re.IGNORECASE))\n",
    "print(re.match(Substring, String1, re.IGNORECASE))\n",
    "print(re.search(Substring, String2, re.IGNORECASE))\n",
    "print(re.match(Substring, String2, re.IGNORECASE))"
   ]
  },
  {
   "attachments": {},
   "cell_type": "markdown",
   "id": "babed21c",
   "metadata": {},
   "source": [
    "#### Q7. What is the difference between using a vertical bar (|) as an alteration and using square brackets as a character set?\n",
    "**Ans:** A vertical bar (`|`) is used as an alternation operator, which means it matches either the expression on the left or the expression on the right. For example, the pattern `cat|dog` matches either `cat` or `dog` in the input string.\n",
    "Square brackets (`[]`) are used as a character set, which means they match any single character that is included in the set. For example, the pattern [`abc`] matches either `a`, `b`, or `c` in the input string.\n",
    "The vertical bar (`|`) is used to match either one expression or another, while square brackets (`[]`) are used to match any single character from a set of characters."
   ]
  },
  {
   "attachments": {},
   "cell_type": "markdown",
   "id": "aad2feb4",
   "metadata": {},
   "source": [
    "#### Q8. In regular-expression search patterns, why is it necessary to use the raw-string indicator (r)? In   replacement strings?\n",
    "**Ans:** In regular expression search patterns, using the raw string indicator `r` is necessary when using special characters, such as `\\, ^, $, *, +, ?, {}, [], (), ., and |`, that have a special meaning in regular expressions. These characters can be used to match specific patterns, but when used in the search string itself, they must be escaped with a backslash (\\) to avoid conflicts with their special meaning.\n",
    "\n",
    "By using the raw string indicator `r`, the string is interpreted as a raw string, which means that the backslash characters are treated as literal backslashes and do not need to be escaped. This makes it easier to include special characters in the search pattern without having to worry about escaping them."
   ]
  },
  {
   "cell_type": "code",
   "execution_count": 2,
   "id": "e371b7e8",
   "metadata": {},
   "outputs": [
    {
     "name": "stdout",
     "output_type": "stream",
     "text": [
      "100\n"
     ]
    }
   ],
   "source": [
    "import re\n",
    "\n",
    "pattern = r\"\\d+\"\n",
    "string = \"There are 100 apples in the basket.\"\n",
    "\n",
    "match = re.search(pattern, string)\n",
    "print(match.group()) # Output: 100"
   ]
  }
 ],
 "metadata": {
  "kernelspec": {
   "display_name": "Python 3",
   "language": "python",
   "name": "python3"
  },
  "language_info": {
   "codemirror_mode": {
    "name": "ipython",
    "version": 3
   },
   "file_extension": ".py",
   "mimetype": "text/x-python",
   "name": "python",
   "nbconvert_exporter": "python",
   "pygments_lexer": "ipython3",
   "version": "3.11.1"
  },
  "vscode": {
   "interpreter": {
    "hash": "5167555cca25988f4ab5c352514d69f303d9df15c2d89ee1d6395211ca37fe29"
   }
  }
 },
 "nbformat": 4,
 "nbformat_minor": 5
}
