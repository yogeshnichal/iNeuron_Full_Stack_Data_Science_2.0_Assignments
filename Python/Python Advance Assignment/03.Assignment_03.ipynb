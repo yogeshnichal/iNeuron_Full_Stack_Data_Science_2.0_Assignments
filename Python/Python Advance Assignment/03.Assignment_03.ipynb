{
 "cells": [
  {
   "cell_type": "markdown",
   "id": "55846da8",
   "metadata": {},
   "source": [
    "# Assignment 03 Solutions"
   ]
  },
  {
   "cell_type": "markdown",
   "id": "6d38e68b",
   "metadata": {},
   "source": [
    "#### 1. What is the concept of an abstract superclass?\n",
    "**Ans:** An abstract class/superclass can be considered as a blueprint for other classes. It allows you to create a set of methods that must be created within any child classes built from the abstract class. A class which contains one or more abstract methods is called an abstract class.\n",
    "\n",
    "Whereas an abstract method is a method that has a declaration but does not have an implementation"
   ]
  },
  {
   "cell_type": "code",
   "execution_count": 1,
   "id": "00e14ca4",
   "metadata": {},
   "outputs": [],
   "source": [
    "from abc import ABC, abstractmethod\n",
    "class Polygon(ABC): # Abstract Class\n",
    "    @abstractmethod\n",
    "    def noofsides(self): # Abstract Method\n",
    "        pass\n",
    "class Triangle(Polygon):\n",
    "    def noofsides(self):  # overriding abstract method in child class Triangle\n",
    "        print(\"I have 3 sides\")\n",
    "class Pentagon(Polygon):\n",
    "    def noofsides(self): # overriding abstract method in child class Pentagon\n",
    "        print(\"I have 5 sides\")"
   ]
  },
  {
   "attachments": {},
   "cell_type": "markdown",
   "id": "e4a49a25",
   "metadata": {},
   "source": [
    "#### 2. What happens when a class statement's top level contains a basic assignment statement?\n",
    "**Ans:** When a basic assignment statement is placed at the top level of a class definition, it creates a class attribute, which is shared by all instances of the class. The class attribute is assigned a value using the assignment operator (=), and it can be accessed using the name of the class, followed by a dot (.) and the attribute name."
   ]
  },
  {
   "cell_type": "code",
   "execution_count": 2,
   "id": "c5d88b4d",
   "metadata": {},
   "outputs": [],
   "source": [
    "class Person:\n",
    "    species = 'Homospecians' # class attribute\n",
    "    def __init__(self,name,gender):\n",
    "        self.name = name # instance attributes\n",
    "        self.gender = gender"
   ]
  },
  {
   "attachments": {},
   "cell_type": "markdown",
   "id": "beb231b3",
   "metadata": {},
   "source": [
    "#### 3. Why does a class need to manually call a superclass's__init__ method?\n",
    "**Ans:** In Python, a subclass needs to explicitly call the __init__ method of its superclass in order to properly initialize the object's inheritance hierarchy. This is because the __init__ method is responsible for initializing an object's state, and if the subclass does not call its superclass's __init__ method, the object's state will not be fully initialized."
   ]
  },
  {
   "cell_type": "code",
   "execution_count": 4,
   "id": "d30162f0",
   "metadata": {},
   "outputs": [
    {
     "name": "stdout",
     "output_type": "stream",
     "text": [
      "Rover\n",
      "Dog\n",
      "Labrador\n"
     ]
    }
   ],
   "source": [
    "class Animal:\n",
    "    def __init__(self, name, species):\n",
    "        self.name = name\n",
    "        self.species = species\n",
    "\n",
    "class Dog(Animal):\n",
    "    def __init__(self, name, breed):\n",
    "        Animal.__init__(self, name, species='Dog')\n",
    "        self.breed = breed\n",
    "\n",
    "dog = Dog('Rover', 'Labrador')\n",
    "print(dog.name) # Output: Rover\n",
    "print(dog.species) # Output: Dog\n",
    "print(dog.breed) # Output: Labrador"
   ]
  },
  {
   "attachments": {},
   "cell_type": "markdown",
   "id": "f7468111",
   "metadata": {},
   "source": [
    "#### 4. How can you augment, instead of completely replacing, an inherited method?\n",
    "**Ans:** **`super()`** To augment an inherited method instead of completely replacing it, you can define a method in the subclass that calls the method from the superclass and then adds additional behavior to it. This is commonly referred to as method \"overriding\"."
   ]
  },
  {
   "cell_type": "code",
   "execution_count": 5,
   "id": "437bf527",
   "metadata": {},
   "outputs": [
    {
     "name": "stdout",
     "output_type": "stream",
     "text": [
      "I'm making a generic animal sound.\n",
      "Woof woof!\n"
     ]
    }
   ],
   "source": [
    "class Animal:\n",
    "    def make_sound(self):\n",
    "        print(\"I'm making a generic animal sound.\")\n",
    "\n",
    "class Dog(Animal):\n",
    "    def make_sound(self):\n",
    "        Animal.make_sound(self)\n",
    "        print(\"Woof woof!\")\n",
    "\n",
    "dog = Dog()\n",
    "dog.make_sound()     "
   ]
  },
  {
   "cell_type": "markdown",
   "id": "16559793",
   "metadata": {},
   "source": [
    "#### 5. How is the local scope of a class different from that of a function?\n",
    "**Ans:** A Variable which is defined inside a function is local to that function. it is accesible from the point at which it is defined until the end of the function, and exists for as long as the function is existing.\n",
    "\n",
    "Similary a variable inside of a class also has a local variable scope. Variables which are defined in the class body (but outside all methods) are called as class level variables or class attributes. they can be referenced by there bare names within the same scope, but they can also be accessed from outside this scope if we use the attribute access operator `(.)`. on a class or an instance of the class."
   ]
  },
  {
   "cell_type": "code",
   "execution_count": 6,
   "id": "1d9896b9",
   "metadata": {},
   "outputs": [
    {
     "name": "stdout",
     "output_type": "stream",
     "text": [
      "Make: Toyota\n",
      "Model: Camry\n",
      "Wheels: 4\n"
     ]
    }
   ],
   "source": [
    "# Define a class with a class variable\n",
    "class Car:\n",
    "  wheels = 4 # class variable\n",
    "  \n",
    "  def __init__(self, make, model):\n",
    "    self.make = make # instance variable\n",
    "    self.model = model # instance variable\n",
    "    \n",
    "  def display_details(self):\n",
    "    print(\"Make:\", self.make)\n",
    "    print(\"Model:\", self.model)\n",
    "    print(\"Wheels:\", Car.wheels)\n",
    "\n",
    "# Create an instance of the class\n",
    "my_car = Car(\"Toyota\", \"Camry\")\n",
    "my_car.display_details()"
   ]
  }
 ],
 "metadata": {
  "kernelspec": {
   "display_name": "Python 3",
   "language": "python",
   "name": "python3"
  },
  "language_info": {
   "codemirror_mode": {
    "name": "ipython",
    "version": 3
   },
   "file_extension": ".py",
   "mimetype": "text/x-python",
   "name": "python",
   "nbconvert_exporter": "python",
   "pygments_lexer": "ipython3",
   "version": "3.11.1"
  },
  "vscode": {
   "interpreter": {
    "hash": "5167555cca25988f4ab5c352514d69f303d9df15c2d89ee1d6395211ca37fe29"
   }
  }
 },
 "nbformat": 4,
 "nbformat_minor": 5
}
