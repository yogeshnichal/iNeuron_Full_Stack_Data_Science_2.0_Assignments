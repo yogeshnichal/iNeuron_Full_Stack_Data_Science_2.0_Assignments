{
 "cells": [
  {
   "cell_type": "markdown",
   "id": "d8ed8d0b",
   "metadata": {},
   "source": [
    "# Assignment 24 Solutions"
   ]
  },
  {
   "attachments": {},
   "cell_type": "markdown",
   "id": "d91cebf0",
   "metadata": {},
   "source": [
    "#### Q1. Is it permissible to use several import statements to import the same module? What would the goal be? Can you think of a situation where it would be beneficial?\n",
    "**Ans:** Yes, you can use multiple import statements to import the same module multiple times in the same script. However, it is generally considered good practice to avoid doing so, as it can make the code more difficult to read and maintain.\n",
    "If you do need to use multiple import statements for the same module, it may be for the purpose of importing different namespaces or specific functions, classes or variables from the module."
   ]
  },
  {
   "cell_type": "markdown",
   "id": "4cca993e",
   "metadata": {},
   "source": [
    "#### Q2. What are some of a module's characteristics? (Name at least one.)\n",
    "**Ans:** The following are some of a module's characteristics:\n",
    "- **`__name__`** : It returns the name of the module\n",
    "- **`__doc__`** : It denotes the documentation string line written in a module code.\n",
    "- **`__file__`** : It holds the name and path of the module file from which it is loaded\n",
    "- **`__dict__`** : It return a dictionary object of module attributes, functions and other definitions and their respective values"
   ]
  },
  {
   "attachments": {},
   "cell_type": "markdown",
   "id": "748f017b",
   "metadata": {},
   "source": [
    "#### Q3. Circular importing, such as when two modules import each other, can lead to dependencies and bugs that aren't visible. How can you go about creating a program that avoids mutual importing?\n",
    "**Ans:** Circular importing can cause dependencies and bugs that are difficult to detect and resolve, and it's best to avoid mutual importing if possible. Here are a few ways to avoid circular importing in your program:\n",
    "\n",
    "`Break the cycle:` By dividing the code into smaller, modular pieces, you can avoid the circular imports. This means that each module imports only what it needs to do its job and doesn't depend on the other module.\n",
    "\n",
    "`Move shared code to a common module:` Another way to avoid circular imports is to move any code that is shared between two or more modules into a common module that can be imported by all other modules.\n",
    "\n",
    "`Use import only in the main script:` If a module is only used in the main script, you can avoid importing it in the module and only import it in the main script.\n",
    "\n",
    "`Use lazy loading:` Instead of importing a module at the top of the script, you can use lazy loading to import the module only when it's needed. This way, you can break the circular dependency and only load the module when it's required.\n",
    "\n",
    "`Avoid absolute imports:` Absolute imports are imports that include the full path to the module. This makes the imports more robust, but it can also lead to circular imports. To avoid circular imports, you can use relative imports, which are imports that use the relative path to the module."
   ]
  },
  {
   "cell_type": "markdown",
   "id": "74cfdc5e",
   "metadata": {},
   "source": [
    "#### Q4. Why is  **`__all__`** in Python ?\n",
    "**Ans:** It provides list of all modules present in a library. "
   ]
  },
  {
   "cell_type": "markdown",
   "id": "0d818cbd",
   "metadata": {},
   "source": [
    "#### Q5. In what situation is it useful to refer to the `__name__` attribute or the string `__main_ _` ?\n",
    "**Ans:** During the time of execution of the code if we want to refer the module in which we are working on then we uses name attribute. In that case it will return the module in which we are working on. Suppose if that moudle is being imported from some other module then name will have the name of that moudle from where the current module has been imported. The current module in which we are working is refer to the string `__main __`."
   ]
  }
 ],
 "metadata": {
  "kernelspec": {
   "display_name": "Python 3",
   "language": "python",
   "name": "python3"
  },
  "language_info": {
   "codemirror_mode": {
    "name": "ipython",
    "version": 3
   },
   "file_extension": ".py",
   "mimetype": "text/x-python",
   "name": "python",
   "nbconvert_exporter": "python",
   "pygments_lexer": "ipython3",
   "version": "3.11.1 (tags/v3.11.1:a7a450f, Dec  6 2022, 19:58:39) [MSC v.1934 64 bit (AMD64)]"
  },
  "vscode": {
   "interpreter": {
    "hash": "5167555cca25988f4ab5c352514d69f303d9df15c2d89ee1d6395211ca37fe29"
   }
  }
 },
 "nbformat": 4,
 "nbformat_minor": 5
}
